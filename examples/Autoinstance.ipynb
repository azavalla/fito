{
 "cells": [
  {
   "cell_type": "markdown",
   "metadata": {},
   "source": [
    "# Why using fito?"
   ]
  },
  {
   "cell_type": "code",
   "execution_count": 1,
   "metadata": {
    "collapsed": true
   },
   "outputs": [],
   "source": [
    "from IPython.display import Markdown, display\n",
    "def printmd(string):\n",
    "    display(Markdown(string))\n",
    "    \n",
    "def print_expr(expr):\n",
    "    print \"{} == {}\".format(expr, eval(expr))"
   ]
  },
  {
   "cell_type": "code",
   "execution_count": 10,
   "metadata": {
    "collapsed": true
   },
   "outputs": [],
   "source": [
    "print_title = lambda title: printmd(\"**{}**\".format(title))"
   ]
  },
  {
   "cell_type": "code",
   "execution_count": 2,
   "metadata": {
    "collapsed": false
   },
   "outputs": [],
   "source": [
    "from pprint import pprint\n",
    "from fito import as_operation, Spec\n",
    "\n",
    "@as_operation()\n",
    "def f(a, b=2): return a+b\n",
    "\n",
    "@as_operation(a=f)\n",
    "def g(a, c): return a*c\n",
    "\n",
    "operation = g.auto_instance(\n",
    "    {\n",
    "        'c': 1,\n",
    "        'a': {\n",
    "            'a': 2\n",
    "        }\n",
    "    }\n",
    ")"
   ]
  },
  {
   "cell_type": "code",
   "execution_count": 16,
   "metadata": {
    "collapsed": false
   },
   "outputs": [
    {
     "data": {
      "text/markdown": [
       "**It is human readable**"
      ],
      "text/plain": [
       "<IPython.core.display.Markdown object>"
      ]
     },
     "metadata": {},
     "output_type": "display_data"
    },
    {
     "name": "stdout",
     "output_type": "stream",
     "text": [
      "operation == g(a=f(a=2, b=2), c=1)\n"
     ]
    },
    {
     "data": {
      "text/markdown": [
       "**It works! (lot of testing)**"
      ],
      "text/plain": [
       "<IPython.core.display.Markdown object>"
      ]
     },
     "metadata": {},
     "output_type": "display_data"
    },
    {
     "name": "stdout",
     "output_type": "stream",
     "text": [
      "operation.execute() == 4\n"
     ]
    },
    {
     "data": {
      "text/markdown": [
       "**Wanna send it to a some API?**"
      ],
      "text/plain": [
       "<IPython.core.display.Markdown object>"
      ]
     },
     "metadata": {},
     "output_type": "display_data"
    },
    {
     "name": "stdout",
     "output_type": "stream",
     "text": [
      "{\n",
      "  \"a\": {\n",
      "    \"a\": 2, \n",
      "    \"b\": 2, \n",
      "    \"type\": \"__main__:f\"\n",
      "  }, \n",
      "  \"c\": 1, \n",
      "  \"type\": \"__main__:g\"\n",
      "}\n"
     ]
    },
    {
     "data": {
      "text/markdown": [
       "**Wanna write it on a config file?**"
      ],
      "text/plain": [
       "<IPython.core.display.Markdown object>"
      ]
     },
     "metadata": {},
     "output_type": "display_data"
    },
    {
     "name": "stdout",
     "output_type": "stream",
     "text": [
      "a:\n",
      "  a: 2\n",
      "  b: 2\n",
      "  type: __main__:f\n",
      "c: 1\n",
      "type: __main__:g\n",
      "\n"
     ]
    },
    {
     "data": {
      "text/markdown": [
       "**Wanna read it back? :P**"
      ],
      "text/plain": [
       "<IPython.core.display.Markdown object>"
      ]
     },
     "metadata": {},
     "output_type": "display_data"
    },
    {
     "name": "stdout",
     "output_type": "stream",
     "text": [
      "Spec.from_yaml().loads(operation.yaml.dumps()) == g(a=f(a=2, b=2), c=1)\n"
     ]
    },
    {
     "data": {
      "text/markdown": [
       "**Wanna hash it into a key value store?**"
      ],
      "text/plain": [
       "<IPython.core.display.Markdown object>"
      ]
     },
     "metadata": {},
     "output_type": "display_data"
    },
    {
     "name": "stdout",
     "output_type": "stream",
     "text": [
      "{operation: {'precision': 0.8, 'recall':0.1}} == {g(a=f(a=2, b=2), c=1): {'recall': 0.1, 'precision': 0.8}}\n",
      "d[operation] == {'recall': 0.1, 'precision': 0.8}\n"
     ]
    },
    {
     "data": {
      "text/markdown": [
       "**Wanna get it back from the config file? ^j^**"
      ],
      "text/plain": [
       "<IPython.core.display.Markdown object>"
      ]
     },
     "metadata": {},
     "output_type": "display_data"
    },
    {
     "name": "stdout",
     "output_type": "stream",
     "text": [
      "d[Spec.from_yaml().loads(operation.yaml.dumps())] == {'recall': 0.1, 'precision': 0.8}\n"
     ]
    }
   ],
   "source": [
    "print_title(\"It is human readable\")\n",
    "print_expr(\"operation\")\n",
    "\n",
    "print_title(\"It works! (lot of testing)\")\n",
    "print_expr(\"operation.execute()\")\n",
    "\n",
    "print_title(\"Wanna send it to a some API?\")\n",
    "print operation.json.dumps()\n",
    "\n",
    "print_title(\"Wanna write it on a config file?\")\n",
    "print operation.yaml.dumps()\n",
    "\n",
    "print_title(\"Wanna read it back? :P\")\n",
    "print_expr(\"Spec.from_yaml().loads(operation.yaml.dumps())\")\n",
    "\n",
    "print_title(\"Wanna hash it into a key value store?\")\n",
    "print_expr(\"{operation: {'precision': 0.8, 'recall':0.1}}\")\n",
    "d = {operation: {'precision': 0.8, 'recall':0.1}}\n",
    "print_expr(\"d[operation]\")\n",
    "\n",
    "print_title(\"Wanna get it back from the config file? ^j^\")\n",
    "print_expr(\"d[Spec.from_yaml().loads(operation.yaml.dumps())]\")\n",
    "\n"
   ]
  }
 ],
 "metadata": {
  "kernelspec": {
   "display_name": "Python 2",
   "language": "python",
   "name": "python2"
  },
  "language_info": {
   "codemirror_mode": {
    "name": "ipython",
    "version": 2
   },
   "file_extension": ".py",
   "mimetype": "text/x-python",
   "name": "python",
   "nbconvert_exporter": "python",
   "pygments_lexer": "ipython2",
   "version": "2.7.12"
  }
 },
 "nbformat": 4,
 "nbformat_minor": 0
}
